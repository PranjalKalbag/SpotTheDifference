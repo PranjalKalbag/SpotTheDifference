{
 "cells": [
  {
   "cell_type": "code",
   "execution_count": 1,
   "metadata": {},
   "outputs": [],
   "source": [
    "import numpy as np\n",
    "import cv2\n",
    "import imutils\n",
    "from skimage.measure._structural_similarity import compare_ssim"
   ]
  },
  {
   "cell_type": "code",
   "execution_count": 2,
   "metadata": {},
   "outputs": [],
   "source": [
    "img = cv2.imread(\"spot.jpg\")\n",
    "x, y, _ = img.shape\n",
    "y1=(int)(y/2)\n"
   ]
  },
  {
   "cell_type": "code",
   "execution_count": 3,
   "metadata": {},
   "outputs": [],
   "source": [
    "original = img[0:x, 0:y1]\n",
    "different = img[0:x, y1:y]\n",
    "gray_original = cv2.cvtColor(original, cv2.COLOR_BGR2GRAY)\n",
    "gray_different = gray_image = cv2.cvtColor(different, cv2.COLOR_BGR2GRAY)\n"
   ]
  },
  {
   "cell_type": "code",
   "execution_count": 4,
   "metadata": {},
   "outputs": [],
   "source": [
    "\n",
    "(score, diff) = compare_ssim(gray_original, gray_different, full=True, multichannel=True)\n",
    "diff = (diff * 255).astype(\"uint8\")\n",
    "\n",
    "thresh = cv2.threshold(diff, 0, 255,\n",
    "\tcv2.THRESH_BINARY_INV | cv2.THRESH_OTSU)[1]\n",
    "cnts = cv2.findContours(thresh.copy(), cv2.RETR_EXTERNAL,\n",
    "\tcv2.CHAIN_APPROX_SIMPLE)\n",
    "cnts = imutils.grab_contours(cnts)\n",
    "\n",
    "# loop over the contours\n",
    "for c in cnts:\n",
    "\t# compute the bounding box of the contour and then draw the\n",
    "\t# bounding box on both input images to represent where the two\n",
    "\t# images differ\n",
    "\t(x, y, w, h) = cv2.boundingRect(c)\n",
    "\tcv2.rectangle(original, (x, y), (x + w, y + h), (0, 0, 255), 2)\n",
    "\tcv2.rectangle(different, (x, y), (x + w, y + h), (0, 0, 255), 2)\n",
    "# show the output images\n",
    "cv2.imwrite('imageog.jpg',original)\n",
    "cv2.imwrite('imagedif.jpg', different)\n",
    "cv2.imshow(\"Original\", original)\n",
    "cv2.imshow(\"Modified\", different)\n",
    "cv2.imwrite(\"Diff.jpg\", diff)\n",
    "cv2.imwrite(\"Thresh.jpg\", thresh)\n",
    "if cv2.waitKey(0) == ord('q'):\n",
    "        cv2.destroyAllWindows()\n",
    "\n"
   ]
  },
  {
   "cell_type": "code",
   "execution_count": null,
   "metadata": {},
   "outputs": [],
   "source": []
  }
 ],
 "metadata": {
  "language_info": {
   "codemirror_mode": {
    "name": "ipython",
    "version": 3
   },
   "file_extension": ".py",
   "mimetype": "text/x-python",
   "name": "python",
   "nbconvert_exporter": "python",
   "pygments_lexer": "ipython3",
   "version": "3.8.2-final"
  },
  "orig_nbformat": 2,
  "kernelspec": {
   "name": "python38264bitc8c8a827479a4cc89be96abd0f44c497",
   "display_name": "Python 3.8.2 64-bit"
  }
 },
 "nbformat": 4,
 "nbformat_minor": 2
}